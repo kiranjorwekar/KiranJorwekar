{
 "cells": [
  {
   "cell_type": "code",
   "execution_count": 1,
   "id": "cb884e3a",
   "metadata": {},
   "outputs": [
    {
     "name": "stdout",
     "output_type": "stream",
     "text": [
      "   traffic_volume holiday    temp  rain_1h  snow_1h  clouds_all weather_main  \\\n",
      "0          1493.0    None  287.15     0.00      0.0        90.0         Mist   \n",
      "1             NaN    None  282.25     0.00      0.0        90.0       Clouds   \n",
      "2             NaN    None     NaN     0.00      0.0        90.0      Drizzle   \n",
      "3          5626.0    None  252.08     0.00      0.0        20.0         Haze   \n",
      "4          5357.0    None  291.25     1.02      0.0         NaN         Rain   \n",
      "\n",
      "  weather_description         date_time  \n",
      "0                 NaN  18-09-2017 22:00  \n",
      "1     overcast clouds  23-05-2013 11:00  \n",
      "2             drizzle  04-06-2016 01:00  \n",
      "3                haze  04-01-2017 08:00  \n",
      "4       moderate rain  13-06-2013 13:00  \n"
     ]
    }
   ],
   "source": [
    "import pandas as pd\n",
    "import matplotlib.pyplot as plt\n",
    "import seaborn as sns\n",
    "import numpy as np\n",
    "import sklearn\n",
    "%matplotlib inline\n",
    "from sklearn.ensemble import HistGradientBoostingRegressor\n",
    "from sklearn.model_selection import train_test_split\n",
    "from sklearn.metrics import r2_score, mean_squared_error\n",
    "\n",
    "from IPython.core.interactiveshell import InteractiveShell\n",
    "InteractiveShell.ast_node_interactivity\n",
    "\n",
    "# Load the data\n",
    "data = pd.read_csv(\"train_set_dirty.csv\")\n",
    "\n",
    "# Display the first few rows of the dataframe\n",
    "print(data.head())\n",
    "\n"
   ]
  },
  {
   "cell_type": "code",
   "execution_count": 4,
   "id": "6bfab554",
   "metadata": {},
   "outputs": [
    {
     "name": "stdout",
     "output_type": "stream",
     "text": [
      "<class 'pandas.core.frame.DataFrame'>\n",
      "RangeIndex: 30415 entries, 0 to 30414\n",
      "Data columns (total 9 columns):\n",
      " #   Column               Non-Null Count  Dtype  \n",
      "---  ------               --------------  -----  \n",
      " 0   traffic_volume       27411 non-null  float64\n",
      " 1   holiday              27377 non-null  object \n",
      " 2   temp                 27395 non-null  float64\n",
      " 3   rain_1h              27488 non-null  float64\n",
      " 4   snow_1h              27404 non-null  float64\n",
      " 5   clouds_all           27350 non-null  float64\n",
      " 6   weather_main         27360 non-null  object \n",
      " 7   weather_description  27392 non-null  object \n",
      " 8   date_time            30414 non-null  object \n",
      "dtypes: float64(5), object(4)\n",
      "memory usage: 2.1+ MB\n"
     ]
    },
    {
     "data": {
      "text/html": [
       "<div>\n",
       "<style scoped>\n",
       "    .dataframe tbody tr th:only-of-type {\n",
       "        vertical-align: middle;\n",
       "    }\n",
       "\n",
       "    .dataframe tbody tr th {\n",
       "        vertical-align: top;\n",
       "    }\n",
       "\n",
       "    .dataframe thead th {\n",
       "        text-align: right;\n",
       "    }\n",
       "</style>\n",
       "<table border=\"1\" class=\"dataframe\">\n",
       "  <thead>\n",
       "    <tr style=\"text-align: right;\">\n",
       "      <th></th>\n",
       "      <th>traffic_volume</th>\n",
       "      <th>temp</th>\n",
       "      <th>rain_1h</th>\n",
       "      <th>snow_1h</th>\n",
       "      <th>clouds_all</th>\n",
       "    </tr>\n",
       "  </thead>\n",
       "  <tbody>\n",
       "    <tr>\n",
       "      <th>count</th>\n",
       "      <td>27411.000000</td>\n",
       "      <td>27395.000000</td>\n",
       "      <td>27488.000000</td>\n",
       "      <td>27404.000000</td>\n",
       "      <td>27350.000000</td>\n",
       "    </tr>\n",
       "    <tr>\n",
       "      <th>mean</th>\n",
       "      <td>3278.871001</td>\n",
       "      <td>281.227741</td>\n",
       "      <td>0.448326</td>\n",
       "      <td>0.000147</td>\n",
       "      <td>45.626618</td>\n",
       "    </tr>\n",
       "    <tr>\n",
       "      <th>std</th>\n",
       "      <td>1987.279406</td>\n",
       "      <td>14.019289</td>\n",
       "      <td>59.304018</td>\n",
       "      <td>0.006633</td>\n",
       "      <td>38.809853</td>\n",
       "    </tr>\n",
       "    <tr>\n",
       "      <th>min</th>\n",
       "      <td>0.000000</td>\n",
       "      <td>0.000000</td>\n",
       "      <td>0.000000</td>\n",
       "      <td>0.000000</td>\n",
       "      <td>0.000000</td>\n",
       "    </tr>\n",
       "    <tr>\n",
       "      <th>25%</th>\n",
       "      <td>1228.500000</td>\n",
       "      <td>271.900000</td>\n",
       "      <td>0.000000</td>\n",
       "      <td>0.000000</td>\n",
       "      <td>1.000000</td>\n",
       "    </tr>\n",
       "    <tr>\n",
       "      <th>50%</th>\n",
       "      <td>3404.000000</td>\n",
       "      <td>282.740000</td>\n",
       "      <td>0.000000</td>\n",
       "      <td>0.000000</td>\n",
       "      <td>40.000000</td>\n",
       "    </tr>\n",
       "    <tr>\n",
       "      <th>75%</th>\n",
       "      <td>4943.000000</td>\n",
       "      <td>292.090000</td>\n",
       "      <td>0.000000</td>\n",
       "      <td>0.000000</td>\n",
       "      <td>90.000000</td>\n",
       "    </tr>\n",
       "    <tr>\n",
       "      <th>max</th>\n",
       "      <td>7280.000000</td>\n",
       "      <td>308.430000</td>\n",
       "      <td>9831.300000</td>\n",
       "      <td>0.510000</td>\n",
       "      <td>100.000000</td>\n",
       "    </tr>\n",
       "  </tbody>\n",
       "</table>\n",
       "</div>"
      ],
      "text/plain": [
       "       traffic_volume          temp       rain_1h       snow_1h    clouds_all\n",
       "count    27411.000000  27395.000000  27488.000000  27404.000000  27350.000000\n",
       "mean      3278.871001    281.227741      0.448326      0.000147     45.626618\n",
       "std       1987.279406     14.019289     59.304018      0.006633     38.809853\n",
       "min          0.000000      0.000000      0.000000      0.000000      0.000000\n",
       "25%       1228.500000    271.900000      0.000000      0.000000      1.000000\n",
       "50%       3404.000000    282.740000      0.000000      0.000000     40.000000\n",
       "75%       4943.000000    292.090000      0.000000      0.000000     90.000000\n",
       "max       7280.000000    308.430000   9831.300000      0.510000    100.000000"
      ]
     },
     "execution_count": 4,
     "metadata": {},
     "output_type": "execute_result"
    }
   ],
   "source": [
    "data.info()\n",
    "data.describe()"
   ]
  },
  {
   "cell_type": "code",
   "execution_count": 5,
   "id": "f6d358f3",
   "metadata": {},
   "outputs": [
    {
     "data": {
      "text/plain": [
       "(30415, 9)"
      ]
     },
     "execution_count": 5,
     "metadata": {},
     "output_type": "execute_result"
    }
   ],
   "source": [
    "data.shape\n",
    "data = data.drop_duplicates(subset = ['date_time'], ignore_index = True)\n",
    "data.shape"
   ]
  },
  {
   "cell_type": "code",
   "execution_count": 6,
   "id": "f5065a04",
   "metadata": {},
   "outputs": [
    {
     "data": {
      "text/plain": [
       "12"
      ]
     },
     "execution_count": 6,
     "metadata": {},
     "output_type": "execute_result"
    }
   ],
   "source": [
    "data['weather_main'].nunique()\n",
    "data['holiday'].nunique()"
   ]
  },
  {
   "cell_type": "code",
   "execution_count": 7,
   "id": "6eb2ab14",
   "metadata": {},
   "outputs": [
    {
     "data": {
      "text/plain": [
       "None                         27346\n",
       "Memorial Day                     4\n",
       "Columbus Day                     4\n",
       "Veterans Day                     4\n",
       "New Years Day                    3\n",
       "Labor Day                        3\n",
       "Christmas Day                    3\n",
       "State Fair                       3\n",
       "Martin Luther King Jr Day        2\n",
       "Thanksgiving Day                 2\n",
       "Washingtons Birthday             2\n",
       "Independence Day                 1\n",
       "Name: holiday, dtype: int64"
      ]
     },
     "execution_count": 7,
     "metadata": {},
     "output_type": "execute_result"
    }
   ],
   "source": [
    "data['holiday'].value_counts()"
   ]
  },
  {
   "cell_type": "code",
   "execution_count": 8,
   "id": "4cdcf27a",
   "metadata": {},
   "outputs": [
    {
     "data": {
      "text/plain": [
       "1    27377\n",
       "0     3038\n",
       "Name: holiday, dtype: int64"
      ]
     },
     "execution_count": 8,
     "metadata": {},
     "output_type": "execute_result"
    }
   ],
   "source": [
    "data['holiday'] = data['holiday'].apply(lambda x:0 if pd.isna(x) else 1)\n",
    "data['holiday'].value_counts()"
   ]
  },
  {
   "cell_type": "code",
   "execution_count": 9,
   "id": "774239ed",
   "metadata": {},
   "outputs": [
    {
     "data": {
      "text/html": [
       "<div>\n",
       "<style scoped>\n",
       "    .dataframe tbody tr th:only-of-type {\n",
       "        vertical-align: middle;\n",
       "    }\n",
       "\n",
       "    .dataframe tbody tr th {\n",
       "        vertical-align: top;\n",
       "    }\n",
       "\n",
       "    .dataframe thead th {\n",
       "        text-align: right;\n",
       "    }\n",
       "</style>\n",
       "<table border=\"1\" class=\"dataframe\">\n",
       "  <thead>\n",
       "    <tr style=\"text-align: right;\">\n",
       "      <th></th>\n",
       "      <th>traffic_volume</th>\n",
       "      <th>holiday</th>\n",
       "      <th>temp</th>\n",
       "      <th>rain_1h</th>\n",
       "      <th>snow_1h</th>\n",
       "      <th>clouds_all</th>\n",
       "      <th>weather_main</th>\n",
       "      <th>weather_description</th>\n",
       "      <th>date_time</th>\n",
       "    </tr>\n",
       "  </thead>\n",
       "  <tbody>\n",
       "    <tr>\n",
       "      <th>0</th>\n",
       "      <td>1493.0</td>\n",
       "      <td>1</td>\n",
       "      <td>287.15</td>\n",
       "      <td>0.00</td>\n",
       "      <td>0.0</td>\n",
       "      <td>90.0</td>\n",
       "      <td>Mist</td>\n",
       "      <td>NaN</td>\n",
       "      <td>18-09-2017 22:00</td>\n",
       "    </tr>\n",
       "    <tr>\n",
       "      <th>1</th>\n",
       "      <td>NaN</td>\n",
       "      <td>1</td>\n",
       "      <td>282.25</td>\n",
       "      <td>0.00</td>\n",
       "      <td>0.0</td>\n",
       "      <td>90.0</td>\n",
       "      <td>Clouds</td>\n",
       "      <td>overcast clouds</td>\n",
       "      <td>23-05-2013 11:00</td>\n",
       "    </tr>\n",
       "    <tr>\n",
       "      <th>2</th>\n",
       "      <td>NaN</td>\n",
       "      <td>1</td>\n",
       "      <td>NaN</td>\n",
       "      <td>0.00</td>\n",
       "      <td>0.0</td>\n",
       "      <td>90.0</td>\n",
       "      <td>Drizzle</td>\n",
       "      <td>drizzle</td>\n",
       "      <td>04-06-2016 01:00</td>\n",
       "    </tr>\n",
       "    <tr>\n",
       "      <th>3</th>\n",
       "      <td>5626.0</td>\n",
       "      <td>1</td>\n",
       "      <td>252.08</td>\n",
       "      <td>0.00</td>\n",
       "      <td>0.0</td>\n",
       "      <td>20.0</td>\n",
       "      <td>Haze</td>\n",
       "      <td>haze</td>\n",
       "      <td>04-01-2017 08:00</td>\n",
       "    </tr>\n",
       "    <tr>\n",
       "      <th>4</th>\n",
       "      <td>5357.0</td>\n",
       "      <td>1</td>\n",
       "      <td>291.25</td>\n",
       "      <td>1.02</td>\n",
       "      <td>0.0</td>\n",
       "      <td>NaN</td>\n",
       "      <td>Rain</td>\n",
       "      <td>moderate rain</td>\n",
       "      <td>13-06-2013 13:00</td>\n",
       "    </tr>\n",
       "  </tbody>\n",
       "</table>\n",
       "</div>"
      ],
      "text/plain": [
       "   traffic_volume  holiday    temp  rain_1h  snow_1h  clouds_all weather_main  \\\n",
       "0          1493.0        1  287.15     0.00      0.0        90.0         Mist   \n",
       "1             NaN        1  282.25     0.00      0.0        90.0       Clouds   \n",
       "2             NaN        1     NaN     0.00      0.0        90.0      Drizzle   \n",
       "3          5626.0        1  252.08     0.00      0.0        20.0         Haze   \n",
       "4          5357.0        1  291.25     1.02      0.0         NaN         Rain   \n",
       "\n",
       "  weather_description         date_time  \n",
       "0                 NaN  18-09-2017 22:00  \n",
       "1     overcast clouds  23-05-2013 11:00  \n",
       "2             drizzle  04-06-2016 01:00  \n",
       "3                haze  04-01-2017 08:00  \n",
       "4       moderate rain  13-06-2013 13:00  "
      ]
     },
     "execution_count": 9,
     "metadata": {},
     "output_type": "execute_result"
    }
   ],
   "source": [
    "data.head()"
   ]
  },
  {
   "cell_type": "code",
   "execution_count": 10,
   "id": "0d7ce75c",
   "metadata": {},
   "outputs": [],
   "source": [
    "data_columns = ['traffic_volume','holiday','temp','rain_1h','snow_1h','clouds_all','weather_main']"
   ]
  },
  {
   "cell_type": "code",
   "execution_count": 11,
   "id": "753cfb2e",
   "metadata": {},
   "outputs": [],
   "source": [
    "category_columns = ['holiday','weather_main']"
   ]
  },
  {
   "cell_type": "code",
   "execution_count": 12,
   "id": "2ecf8e1b",
   "metadata": {},
   "outputs": [
    {
     "data": {
      "text/plain": [
       "(30415, 7)"
      ]
     },
     "execution_count": 12,
     "metadata": {},
     "output_type": "execute_result"
    }
   ],
   "source": [
    "data_wo_dates_wdesc = data[data_columns]\n",
    "data_wo_dates_wdesc.shape"
   ]
  },
  {
   "cell_type": "code",
   "execution_count": 13,
   "id": "bc8e57b6",
   "metadata": {},
   "outputs": [
    {
     "data": {
      "text/plain": [
       "<bound method NDFrame.head of        traffic_volume    temp  rain_1h  snow_1h  clouds_all  holiday_0  \\\n",
       "0              1493.0  287.15     0.00      0.0        90.0          0   \n",
       "1                 NaN  282.25     0.00      0.0        90.0          0   \n",
       "2                 NaN     NaN     0.00      0.0        90.0          0   \n",
       "3              5626.0  252.08     0.00      0.0        20.0          0   \n",
       "4              5357.0  291.25     1.02      0.0         NaN          0   \n",
       "...               ...     ...      ...      ...         ...        ...   \n",
       "30410           393.0  267.02     0.00      0.0        90.0          0   \n",
       "30411          4727.0  267.59     0.00      0.0         5.0          0   \n",
       "30412          3009.0  256.64     0.00      0.0         1.0          0   \n",
       "30413           295.0  286.69     0.00      NaN         1.0          0   \n",
       "30414           746.0  290.18     0.00      0.0         NaN          0   \n",
       "\n",
       "       holiday_1  weather_main_Clear  weather_main_Clouds  \\\n",
       "0              1                   0                    0   \n",
       "1              1                   0                    1   \n",
       "2              1                   0                    0   \n",
       "3              1                   0                    0   \n",
       "4              1                   0                    0   \n",
       "...          ...                 ...                  ...   \n",
       "30410          1                   0                    1   \n",
       "30411          1                   1                    0   \n",
       "30412          1                   1                    0   \n",
       "30413          1                   1                    0   \n",
       "30414          1                   0                    0   \n",
       "\n",
       "       weather_main_Drizzle  weather_main_Fog  weather_main_Haze  \\\n",
       "0                         0                 0                  0   \n",
       "1                         0                 0                  0   \n",
       "2                         1                 0                  0   \n",
       "3                         0                 0                  1   \n",
       "4                         0                 0                  0   \n",
       "...                     ...               ...                ...   \n",
       "30410                     0                 0                  0   \n",
       "30411                     0                 0                  0   \n",
       "30412                     0                 0                  0   \n",
       "30413                     0                 0                  0   \n",
       "30414                     0                 0                  0   \n",
       "\n",
       "       weather_main_Mist  weather_main_Rain  weather_main_Smoke  \\\n",
       "0                      1                  0                   0   \n",
       "1                      0                  0                   0   \n",
       "2                      0                  0                   0   \n",
       "3                      0                  0                   0   \n",
       "4                      0                  1                   0   \n",
       "...                  ...                ...                 ...   \n",
       "30410                  0                  0                   0   \n",
       "30411                  0                  0                   0   \n",
       "30412                  0                  0                   0   \n",
       "30413                  0                  0                   0   \n",
       "30414                  0                  0                   0   \n",
       "\n",
       "       weather_main_Snow  weather_main_Squall  weather_main_Thunderstorm  \n",
       "0                      0                    0                          0  \n",
       "1                      0                    0                          0  \n",
       "2                      0                    0                          0  \n",
       "3                      0                    0                          0  \n",
       "4                      0                    0                          0  \n",
       "...                  ...                  ...                        ...  \n",
       "30410                  0                    0                          0  \n",
       "30411                  0                    0                          0  \n",
       "30412                  0                    0                          0  \n",
       "30413                  0                    0                          0  \n",
       "30414                  0                    0                          1  \n",
       "\n",
       "[30415 rows x 18 columns]>"
      ]
     },
     "execution_count": 13,
     "metadata": {},
     "output_type": "execute_result"
    }
   ],
   "source": [
    "data_trn = pd.get_dummies(data_wo_dates_wdesc, columns = category_columns)\n",
    "data_trn.shape\n",
    "data_trn.head"
   ]
  },
  {
   "cell_type": "code",
   "execution_count": 14,
   "id": "579eb9e1",
   "metadata": {},
   "outputs": [
    {
     "data": {
      "text/plain": [
       "<bound method NDFrame.head of 0        1493.0\n",
       "1           NaN\n",
       "2           NaN\n",
       "3        5626.0\n",
       "4        5357.0\n",
       "          ...  \n",
       "30410     393.0\n",
       "30411    4727.0\n",
       "30412    3009.0\n",
       "30413     295.0\n",
       "30414     746.0\n",
       "Name: traffic_volume, Length: 30415, dtype: float64>"
      ]
     },
     "execution_count": 14,
     "metadata": {},
     "output_type": "execute_result"
    }
   ],
   "source": [
    "traffic = data_trn.iloc[:,0]\n",
    "traffic.head"
   ]
  },
  {
   "cell_type": "code",
   "execution_count": 15,
   "id": "d229296e",
   "metadata": {},
   "outputs": [
    {
     "data": {
      "text/plain": [
       "<bound method NDFrame.head of          temp  rain_1h  snow_1h  clouds_all  holiday_0  holiday_1  \\\n",
       "0      287.15     0.00      0.0        90.0          0          1   \n",
       "1      282.25     0.00      0.0        90.0          0          1   \n",
       "2         NaN     0.00      0.0        90.0          0          1   \n",
       "3      252.08     0.00      0.0        20.0          0          1   \n",
       "4      291.25     1.02      0.0         NaN          0          1   \n",
       "...       ...      ...      ...         ...        ...        ...   \n",
       "30410  267.02     0.00      0.0        90.0          0          1   \n",
       "30411  267.59     0.00      0.0         5.0          0          1   \n",
       "30412  256.64     0.00      0.0         1.0          0          1   \n",
       "30413  286.69     0.00      NaN         1.0          0          1   \n",
       "30414  290.18     0.00      0.0         NaN          0          1   \n",
       "\n",
       "       weather_main_Clear  weather_main_Clouds  weather_main_Drizzle  \\\n",
       "0                       0                    0                     0   \n",
       "1                       0                    1                     0   \n",
       "2                       0                    0                     1   \n",
       "3                       0                    0                     0   \n",
       "4                       0                    0                     0   \n",
       "...                   ...                  ...                   ...   \n",
       "30410                   0                    1                     0   \n",
       "30411                   1                    0                     0   \n",
       "30412                   1                    0                     0   \n",
       "30413                   1                    0                     0   \n",
       "30414                   0                    0                     0   \n",
       "\n",
       "       weather_main_Fog  weather_main_Haze  weather_main_Mist  \\\n",
       "0                     0                  0                  1   \n",
       "1                     0                  0                  0   \n",
       "2                     0                  0                  0   \n",
       "3                     0                  1                  0   \n",
       "4                     0                  0                  0   \n",
       "...                 ...                ...                ...   \n",
       "30410                 0                  0                  0   \n",
       "30411                 0                  0                  0   \n",
       "30412                 0                  0                  0   \n",
       "30413                 0                  0                  0   \n",
       "30414                 0                  0                  0   \n",
       "\n",
       "       weather_main_Rain  weather_main_Smoke  weather_main_Snow  \\\n",
       "0                      0                   0                  0   \n",
       "1                      0                   0                  0   \n",
       "2                      0                   0                  0   \n",
       "3                      0                   0                  0   \n",
       "4                      1                   0                  0   \n",
       "...                  ...                 ...                ...   \n",
       "30410                  0                   0                  0   \n",
       "30411                  0                   0                  0   \n",
       "30412                  0                   0                  0   \n",
       "30413                  0                   0                  0   \n",
       "30414                  0                   0                  0   \n",
       "\n",
       "       weather_main_Squall  weather_main_Thunderstorm  \n",
       "0                        0                          0  \n",
       "1                        0                          0  \n",
       "2                        0                          0  \n",
       "3                        0                          0  \n",
       "4                        0                          0  \n",
       "...                    ...                        ...  \n",
       "30410                    0                          0  \n",
       "30411                    0                          0  \n",
       "30412                    0                          0  \n",
       "30413                    0                          0  \n",
       "30414                    0                          1  \n",
       "\n",
       "[30415 rows x 17 columns]>"
      ]
     },
     "execution_count": 15,
     "metadata": {},
     "output_type": "execute_result"
    }
   ],
   "source": [
    "data_train = data_trn.iloc[:,1:]\n",
    "data_train.head"
   ]
  },
  {
   "cell_type": "code",
   "execution_count": 16,
   "id": "46f6251d",
   "metadata": {},
   "outputs": [
    {
     "data": {
      "text/plain": [
       "3004"
      ]
     },
     "execution_count": 16,
     "metadata": {},
     "output_type": "execute_result"
    }
   ],
   "source": [
    "sum(traffic.isnull())"
   ]
  },
  {
   "cell_type": "code",
   "execution_count": 17,
   "id": "b8987ca0",
   "metadata": {},
   "outputs": [],
   "source": [
    "traffic.ffill(inplace = True)"
   ]
  },
  {
   "cell_type": "code",
   "execution_count": 18,
   "id": "e0ce9e70",
   "metadata": {},
   "outputs": [],
   "source": [
    "regr = HistGradientBoostingRegressor(random_state = 32)"
   ]
  },
  {
   "cell_type": "code",
   "execution_count": 19,
   "id": "6b42d130",
   "metadata": {
    "scrolled": false
   },
   "outputs": [
    {
     "data": {
      "text/html": [
       "<style>#sk-container-id-1 {color: black;}#sk-container-id-1 pre{padding: 0;}#sk-container-id-1 div.sk-toggleable {background-color: white;}#sk-container-id-1 label.sk-toggleable__label {cursor: pointer;display: block;width: 100%;margin-bottom: 0;padding: 0.3em;box-sizing: border-box;text-align: center;}#sk-container-id-1 label.sk-toggleable__label-arrow:before {content: \"▸\";float: left;margin-right: 0.25em;color: #696969;}#sk-container-id-1 label.sk-toggleable__label-arrow:hover:before {color: black;}#sk-container-id-1 div.sk-estimator:hover label.sk-toggleable__label-arrow:before {color: black;}#sk-container-id-1 div.sk-toggleable__content {max-height: 0;max-width: 0;overflow: hidden;text-align: left;background-color: #f0f8ff;}#sk-container-id-1 div.sk-toggleable__content pre {margin: 0.2em;color: black;border-radius: 0.25em;background-color: #f0f8ff;}#sk-container-id-1 input.sk-toggleable__control:checked~div.sk-toggleable__content {max-height: 200px;max-width: 100%;overflow: auto;}#sk-container-id-1 input.sk-toggleable__control:checked~label.sk-toggleable__label-arrow:before {content: \"▾\";}#sk-container-id-1 div.sk-estimator input.sk-toggleable__control:checked~label.sk-toggleable__label {background-color: #d4ebff;}#sk-container-id-1 div.sk-label input.sk-toggleable__control:checked~label.sk-toggleable__label {background-color: #d4ebff;}#sk-container-id-1 input.sk-hidden--visually {border: 0;clip: rect(1px 1px 1px 1px);clip: rect(1px, 1px, 1px, 1px);height: 1px;margin: -1px;overflow: hidden;padding: 0;position: absolute;width: 1px;}#sk-container-id-1 div.sk-estimator {font-family: monospace;background-color: #f0f8ff;border: 1px dotted black;border-radius: 0.25em;box-sizing: border-box;margin-bottom: 0.5em;}#sk-container-id-1 div.sk-estimator:hover {background-color: #d4ebff;}#sk-container-id-1 div.sk-parallel-item::after {content: \"\";width: 100%;border-bottom: 1px solid gray;flex-grow: 1;}#sk-container-id-1 div.sk-label:hover label.sk-toggleable__label {background-color: #d4ebff;}#sk-container-id-1 div.sk-serial::before {content: \"\";position: absolute;border-left: 1px solid gray;box-sizing: border-box;top: 0;bottom: 0;left: 50%;z-index: 0;}#sk-container-id-1 div.sk-serial {display: flex;flex-direction: column;align-items: center;background-color: white;padding-right: 0.2em;padding-left: 0.2em;position: relative;}#sk-container-id-1 div.sk-item {position: relative;z-index: 1;}#sk-container-id-1 div.sk-parallel {display: flex;align-items: stretch;justify-content: center;background-color: white;position: relative;}#sk-container-id-1 div.sk-item::before, #sk-container-id-1 div.sk-parallel-item::before {content: \"\";position: absolute;border-left: 1px solid gray;box-sizing: border-box;top: 0;bottom: 0;left: 50%;z-index: -1;}#sk-container-id-1 div.sk-parallel-item {display: flex;flex-direction: column;z-index: 1;position: relative;background-color: white;}#sk-container-id-1 div.sk-parallel-item:first-child::after {align-self: flex-end;width: 50%;}#sk-container-id-1 div.sk-parallel-item:last-child::after {align-self: flex-start;width: 50%;}#sk-container-id-1 div.sk-parallel-item:only-child::after {width: 0;}#sk-container-id-1 div.sk-dashed-wrapped {border: 1px dashed gray;margin: 0 0.4em 0.5em 0.4em;box-sizing: border-box;padding-bottom: 0.4em;background-color: white;}#sk-container-id-1 div.sk-label label {font-family: monospace;font-weight: bold;display: inline-block;line-height: 1.2em;}#sk-container-id-1 div.sk-label-container {text-align: center;}#sk-container-id-1 div.sk-container {/* jupyter's `normalize.less` sets `[hidden] { display: none; }` but bootstrap.min.css set `[hidden] { display: none !important; }` so we also need the `!important` here to be able to override the default hidden behavior on the sphinx rendered scikit-learn.org. See: https://github.com/scikit-learn/scikit-learn/issues/21755 */display: inline-block !important;position: relative;}#sk-container-id-1 div.sk-text-repr-fallback {display: none;}</style><div id=\"sk-container-id-1\" class=\"sk-top-container\"><div class=\"sk-text-repr-fallback\"><pre>HistGradientBoostingRegressor(random_state=32)</pre><b>In a Jupyter environment, please rerun this cell to show the HTML representation or trust the notebook. <br />On GitHub, the HTML representation is unable to render, please try loading this page with nbviewer.org.</b></div><div class=\"sk-container\" hidden><div class=\"sk-item\"><div class=\"sk-estimator sk-toggleable\"><input class=\"sk-toggleable__control sk-hidden--visually\" id=\"sk-estimator-id-1\" type=\"checkbox\" checked><label for=\"sk-estimator-id-1\" class=\"sk-toggleable__label sk-toggleable__label-arrow\">HistGradientBoostingRegressor</label><div class=\"sk-toggleable__content\"><pre>HistGradientBoostingRegressor(random_state=32)</pre></div></div></div></div></div>"
      ],
      "text/plain": [
       "HistGradientBoostingRegressor(random_state=32)"
      ]
     },
     "execution_count": 19,
     "metadata": {},
     "output_type": "execute_result"
    }
   ],
   "source": [
    "regr.fit(data_train, traffic)"
   ]
  },
  {
   "cell_type": "code",
   "execution_count": 20,
   "id": "cef81e29",
   "metadata": {},
   "outputs": [],
   "source": [
    "y_pred = regr.predict(data_train)"
   ]
  },
  {
   "cell_type": "code",
   "execution_count": 21,
   "id": "28df8f59",
   "metadata": {},
   "outputs": [
    {
     "name": "stdout",
     "output_type": "stream",
     "text": [
      " r2_score : 0.08065327264810762 \n",
      " mean squared error : 3633621.664738271\n"
     ]
    }
   ],
   "source": [
    "print(f' r2_score : {r2_score(traffic, y_pred)} \\n mean squared error : {mean_squared_error(traffic, y_pred)}')"
   ]
  },
  {
   "cell_type": "code",
   "execution_count": 25,
   "id": "b1bdcea7",
   "metadata": {},
   "outputs": [],
   "source": [
    "test_pd = pd.read_csv('test_set_nogt.csv')\n",
    "test = test_pd.copy(deep = True)"
   ]
  },
  {
   "cell_type": "code",
   "execution_count": 26,
   "id": "70d98353",
   "metadata": {},
   "outputs": [
    {
     "data": {
      "text/plain": [
       "(9641, 8)"
      ]
     },
     "execution_count": 26,
     "metadata": {},
     "output_type": "execute_result"
    }
   ],
   "source": [
    "test.shape"
   ]
  },
  {
   "cell_type": "code",
   "execution_count": 27,
   "id": "717617a3",
   "metadata": {},
   "outputs": [
    {
     "data": {
      "text/plain": [
       "<bound method NDFrame.head of      holiday    temp  rain_1h  snow_1h  clouds_all weather_main  \\\n",
       "0       None  289.58     0.00      0.0          90       Clouds   \n",
       "1       None  290.13     0.00      0.0          90       Clouds   \n",
       "2       None  291.14     0.00      0.0          75       Clouds   \n",
       "3       None  291.72     0.00      0.0           1        Clear   \n",
       "4       None  281.18     0.00      0.0           1        Clear   \n",
       "...      ...     ...      ...      ...         ...          ...   \n",
       "9636    None  280.28     0.00      0.0          90       Clouds   \n",
       "9637    None  282.18     0.00      0.0          90       Clouds   \n",
       "9638    None  283.48     0.00      0.0          90         Rain   \n",
       "9639    None  283.48     0.00      0.0          90      Drizzle   \n",
       "9640    None  284.20     0.25      0.0          75         Rain   \n",
       "\n",
       "          weather_description         date_time  \n",
       "0             overcast clouds  02-10-2012 11:00  \n",
       "1             overcast clouds  02-10-2012 12:00  \n",
       "2               broken clouds  02-10-2012 13:00  \n",
       "3                sky is clear  02-10-2012 14:00  \n",
       "4                sky is clear  03-10-2012 02:00  \n",
       "...                       ...               ...  \n",
       "9636          overcast clouds  30-09-2018 08:00  \n",
       "9637          overcast clouds  30-09-2018 11:00  \n",
       "9638               light rain  30-09-2018 14:00  \n",
       "9639  light intensity drizzle  30-09-2018 14:00  \n",
       "9640               light rain  30-09-2018 18:00  \n",
       "\n",
       "[9641 rows x 8 columns]>"
      ]
     },
     "execution_count": 27,
     "metadata": {},
     "output_type": "execute_result"
    }
   ],
   "source": [
    "test.head"
   ]
  },
  {
   "cell_type": "code",
   "execution_count": 28,
   "id": "9334b33a",
   "metadata": {},
   "outputs": [
    {
     "data": {
      "text/plain": [
       "10"
      ]
     },
     "execution_count": 28,
     "metadata": {},
     "output_type": "execute_result"
    }
   ],
   "source": [
    "test['weather_main'].nunique()\n",
    "test['holiday'].nunique()"
   ]
  },
  {
   "cell_type": "code",
   "execution_count": 29,
   "id": "93c2e107",
   "metadata": {},
   "outputs": [
    {
     "data": {
      "text/plain": [
       "None                         9625\n",
       "Labor Day                       3\n",
       "Independence Day                3\n",
       "Washingtons Birthday            2\n",
       "Thanksgiving Day                2\n",
       "State Fair                      2\n",
       "Christmas Day                   1\n",
       "New Years Day                   1\n",
       "Martin Luther King Jr Day       1\n",
       "Memorial Day                    1\n",
       "Name: holiday, dtype: int64"
      ]
     },
     "execution_count": 29,
     "metadata": {},
     "output_type": "execute_result"
    }
   ],
   "source": [
    "test['holiday'].value_counts()"
   ]
  },
  {
   "cell_type": "code",
   "execution_count": 30,
   "id": "2584c962",
   "metadata": {},
   "outputs": [],
   "source": [
    "#data['holiday'].value_counts()"
   ]
  },
  {
   "cell_type": "code",
   "execution_count": 31,
   "id": "993ae8d3",
   "metadata": {},
   "outputs": [
    {
     "data": {
      "text/plain": [
       "<bound method NDFrame.head of       holiday    temp  rain_1h  snow_1h  clouds_all weather_main  \\\n",
       "0           1  289.58     0.00      0.0          90       Clouds   \n",
       "1           1  290.13     0.00      0.0          90       Clouds   \n",
       "2           1  291.14     0.00      0.0          75       Clouds   \n",
       "3           1  291.72     0.00      0.0           1        Clear   \n",
       "4           1  281.18     0.00      0.0           1        Clear   \n",
       "...       ...     ...      ...      ...         ...          ...   \n",
       "9636        1  280.28     0.00      0.0          90       Clouds   \n",
       "9637        1  282.18     0.00      0.0          90       Clouds   \n",
       "9638        1  283.48     0.00      0.0          90         Rain   \n",
       "9639        1  283.48     0.00      0.0          90      Drizzle   \n",
       "9640        1  284.20     0.25      0.0          75         Rain   \n",
       "\n",
       "          weather_description         date_time  \n",
       "0             overcast clouds  02-10-2012 11:00  \n",
       "1             overcast clouds  02-10-2012 12:00  \n",
       "2               broken clouds  02-10-2012 13:00  \n",
       "3                sky is clear  02-10-2012 14:00  \n",
       "4                sky is clear  03-10-2012 02:00  \n",
       "...                       ...               ...  \n",
       "9636          overcast clouds  30-09-2018 08:00  \n",
       "9637          overcast clouds  30-09-2018 11:00  \n",
       "9638               light rain  30-09-2018 14:00  \n",
       "9639  light intensity drizzle  30-09-2018 14:00  \n",
       "9640               light rain  30-09-2018 18:00  \n",
       "\n",
       "[9641 rows x 8 columns]>"
      ]
     },
     "execution_count": 31,
     "metadata": {},
     "output_type": "execute_result"
    }
   ],
   "source": [
    "test['holiday'] = test['holiday'].apply(lambda x:0 if pd.isna(x) else 1)\n",
    "test['holiday'].value_counts()\n",
    "test.head"
   ]
  },
  {
   "cell_type": "code",
   "execution_count": 32,
   "id": "5a9f5ea9",
   "metadata": {},
   "outputs": [
    {
     "data": {
      "text/plain": [
       "(9641, 6)"
      ]
     },
     "execution_count": 32,
     "metadata": {},
     "output_type": "execute_result"
    }
   ],
   "source": [
    "test_columns = ['holiday', 'temp', 'rain_1h', 'snow_1h', 'clouds_all', 'weather_main']\n",
    "test_wo_dates_wdesc = test[test_columns]\n",
    "test_wo_dates_wdesc.shape"
   ]
  },
  {
   "cell_type": "code",
   "execution_count": 33,
   "id": "1adee691",
   "metadata": {},
   "outputs": [
    {
     "name": "stdout",
     "output_type": "stream",
     "text": [
      "        temp  rain_1h  snow_1h  clouds_all  holiday_1  weather_main_Clear  \\\n",
      "0     289.58     0.00      0.0          90          1                   0   \n",
      "1     290.13     0.00      0.0          90          1                   0   \n",
      "2     291.14     0.00      0.0          75          1                   0   \n",
      "3     291.72     0.00      0.0           1          1                   1   \n",
      "4     281.18     0.00      0.0           1          1                   1   \n",
      "...      ...      ...      ...         ...        ...                 ...   \n",
      "9636  280.28     0.00      0.0          90          1                   0   \n",
      "9637  282.18     0.00      0.0          90          1                   0   \n",
      "9638  283.48     0.00      0.0          90          1                   0   \n",
      "9639  283.48     0.00      0.0          90          1                   0   \n",
      "9640  284.20     0.25      0.0          75          1                   0   \n",
      "\n",
      "      weather_main_Clouds  weather_main_Drizzle  weather_main_Fog  \\\n",
      "0                       1                     0                 0   \n",
      "1                       1                     0                 0   \n",
      "2                       1                     0                 0   \n",
      "3                       0                     0                 0   \n",
      "4                       0                     0                 0   \n",
      "...                   ...                   ...               ...   \n",
      "9636                    1                     0                 0   \n",
      "9637                    1                     0                 0   \n",
      "9638                    0                     0                 0   \n",
      "9639                    0                     1                 0   \n",
      "9640                    0                     0                 0   \n",
      "\n",
      "      weather_main_Haze  weather_main_Mist  weather_main_Rain  \\\n",
      "0                     0                  0                  0   \n",
      "1                     0                  0                  0   \n",
      "2                     0                  0                  0   \n",
      "3                     0                  0                  0   \n",
      "4                     0                  0                  0   \n",
      "...                 ...                ...                ...   \n",
      "9636                  0                  0                  0   \n",
      "9637                  0                  0                  0   \n",
      "9638                  0                  0                  1   \n",
      "9639                  0                  0                  0   \n",
      "9640                  0                  0                  1   \n",
      "\n",
      "      weather_main_Smoke  weather_main_Snow  weather_main_Squall  \\\n",
      "0                      0                  0                    0   \n",
      "1                      0                  0                    0   \n",
      "2                      0                  0                    0   \n",
      "3                      0                  0                    0   \n",
      "4                      0                  0                    0   \n",
      "...                  ...                ...                  ...   \n",
      "9636                   0                  0                    0   \n",
      "9637                   0                  0                    0   \n",
      "9638                   0                  0                    0   \n",
      "9639                   0                  0                    0   \n",
      "9640                   0                  0                    0   \n",
      "\n",
      "      weather_main_Thunderstorm  \n",
      "0                             0  \n",
      "1                             0  \n",
      "2                             0  \n",
      "3                             0  \n",
      "4                             0  \n",
      "...                         ...  \n",
      "9636                          0  \n",
      "9637                          0  \n",
      "9638                          0  \n",
      "9639                          0  \n",
      "9640                          0  \n",
      "\n",
      "[9641 rows x 16 columns]\n"
     ]
    }
   ],
   "source": [
    "test_trn = pd.get_dummies(test_wo_dates_wdesc, columns = category_columns)\n",
    "test_trn.shape\n",
    "test_trn.head\n",
    "print(test_trn)"
   ]
  },
  {
   "cell_type": "code",
   "execution_count": 34,
   "id": "a1ce8c0f",
   "metadata": {},
   "outputs": [
    {
     "data": {
      "text/plain": [
       "<bound method NDFrame.head of       rain_1h  snow_1h  clouds_all  holiday_1  weather_main_Clear  \\\n",
       "0        0.00      0.0          90          1                   0   \n",
       "1        0.00      0.0          90          1                   0   \n",
       "2        0.00      0.0          75          1                   0   \n",
       "3        0.00      0.0           1          1                   1   \n",
       "4        0.00      0.0           1          1                   1   \n",
       "...       ...      ...         ...        ...                 ...   \n",
       "9636     0.00      0.0          90          1                   0   \n",
       "9637     0.00      0.0          90          1                   0   \n",
       "9638     0.00      0.0          90          1                   0   \n",
       "9639     0.00      0.0          90          1                   0   \n",
       "9640     0.25      0.0          75          1                   0   \n",
       "\n",
       "      weather_main_Clouds  weather_main_Drizzle  weather_main_Fog  \\\n",
       "0                       1                     0                 0   \n",
       "1                       1                     0                 0   \n",
       "2                       1                     0                 0   \n",
       "3                       0                     0                 0   \n",
       "4                       0                     0                 0   \n",
       "...                   ...                   ...               ...   \n",
       "9636                    1                     0                 0   \n",
       "9637                    1                     0                 0   \n",
       "9638                    0                     0                 0   \n",
       "9639                    0                     1                 0   \n",
       "9640                    0                     0                 0   \n",
       "\n",
       "      weather_main_Haze  weather_main_Mist  weather_main_Rain  \\\n",
       "0                     0                  0                  0   \n",
       "1                     0                  0                  0   \n",
       "2                     0                  0                  0   \n",
       "3                     0                  0                  0   \n",
       "4                     0                  0                  0   \n",
       "...                 ...                ...                ...   \n",
       "9636                  0                  0                  0   \n",
       "9637                  0                  0                  0   \n",
       "9638                  0                  0                  1   \n",
       "9639                  0                  0                  0   \n",
       "9640                  0                  0                  1   \n",
       "\n",
       "      weather_main_Smoke  weather_main_Snow  weather_main_Squall  \\\n",
       "0                      0                  0                    0   \n",
       "1                      0                  0                    0   \n",
       "2                      0                  0                    0   \n",
       "3                      0                  0                    0   \n",
       "4                      0                  0                    0   \n",
       "...                  ...                ...                  ...   \n",
       "9636                   0                  0                    0   \n",
       "9637                   0                  0                    0   \n",
       "9638                   0                  0                    0   \n",
       "9639                   0                  0                    0   \n",
       "9640                   0                  0                    0   \n",
       "\n",
       "      weather_main_Thunderstorm  \n",
       "0                             0  \n",
       "1                             0  \n",
       "2                             0  \n",
       "3                             0  \n",
       "4                             0  \n",
       "...                         ...  \n",
       "9636                          0  \n",
       "9637                          0  \n",
       "9638                          0  \n",
       "9639                          0  \n",
       "9640                          0  \n",
       "\n",
       "[9641 rows x 15 columns]>"
      ]
     },
     "execution_count": 34,
     "metadata": {},
     "output_type": "execute_result"
    }
   ],
   "source": [
    "traffic = test_trn.iloc[:,0]\n",
    "traffic.head\n",
    "\n",
    "test_trn = test_trn.iloc[:,1:]\n",
    "test_trn.head"
   ]
  },
  {
   "cell_type": "code",
   "execution_count": 35,
   "id": "83cfe9db",
   "metadata": {},
   "outputs": [
    {
     "data": {
      "text/plain": [
       "0"
      ]
     },
     "execution_count": 35,
     "metadata": {},
     "output_type": "execute_result"
    }
   ],
   "source": [
    "sum(traffic.isnull())"
   ]
  },
  {
   "cell_type": "code",
   "execution_count": 36,
   "id": "86690956",
   "metadata": {},
   "outputs": [
    {
     "data": {
      "text/html": [
       "<style>#sk-container-id-2 {color: black;}#sk-container-id-2 pre{padding: 0;}#sk-container-id-2 div.sk-toggleable {background-color: white;}#sk-container-id-2 label.sk-toggleable__label {cursor: pointer;display: block;width: 100%;margin-bottom: 0;padding: 0.3em;box-sizing: border-box;text-align: center;}#sk-container-id-2 label.sk-toggleable__label-arrow:before {content: \"▸\";float: left;margin-right: 0.25em;color: #696969;}#sk-container-id-2 label.sk-toggleable__label-arrow:hover:before {color: black;}#sk-container-id-2 div.sk-estimator:hover label.sk-toggleable__label-arrow:before {color: black;}#sk-container-id-2 div.sk-toggleable__content {max-height: 0;max-width: 0;overflow: hidden;text-align: left;background-color: #f0f8ff;}#sk-container-id-2 div.sk-toggleable__content pre {margin: 0.2em;color: black;border-radius: 0.25em;background-color: #f0f8ff;}#sk-container-id-2 input.sk-toggleable__control:checked~div.sk-toggleable__content {max-height: 200px;max-width: 100%;overflow: auto;}#sk-container-id-2 input.sk-toggleable__control:checked~label.sk-toggleable__label-arrow:before {content: \"▾\";}#sk-container-id-2 div.sk-estimator input.sk-toggleable__control:checked~label.sk-toggleable__label {background-color: #d4ebff;}#sk-container-id-2 div.sk-label input.sk-toggleable__control:checked~label.sk-toggleable__label {background-color: #d4ebff;}#sk-container-id-2 input.sk-hidden--visually {border: 0;clip: rect(1px 1px 1px 1px);clip: rect(1px, 1px, 1px, 1px);height: 1px;margin: -1px;overflow: hidden;padding: 0;position: absolute;width: 1px;}#sk-container-id-2 div.sk-estimator {font-family: monospace;background-color: #f0f8ff;border: 1px dotted black;border-radius: 0.25em;box-sizing: border-box;margin-bottom: 0.5em;}#sk-container-id-2 div.sk-estimator:hover {background-color: #d4ebff;}#sk-container-id-2 div.sk-parallel-item::after {content: \"\";width: 100%;border-bottom: 1px solid gray;flex-grow: 1;}#sk-container-id-2 div.sk-label:hover label.sk-toggleable__label {background-color: #d4ebff;}#sk-container-id-2 div.sk-serial::before {content: \"\";position: absolute;border-left: 1px solid gray;box-sizing: border-box;top: 0;bottom: 0;left: 50%;z-index: 0;}#sk-container-id-2 div.sk-serial {display: flex;flex-direction: column;align-items: center;background-color: white;padding-right: 0.2em;padding-left: 0.2em;position: relative;}#sk-container-id-2 div.sk-item {position: relative;z-index: 1;}#sk-container-id-2 div.sk-parallel {display: flex;align-items: stretch;justify-content: center;background-color: white;position: relative;}#sk-container-id-2 div.sk-item::before, #sk-container-id-2 div.sk-parallel-item::before {content: \"\";position: absolute;border-left: 1px solid gray;box-sizing: border-box;top: 0;bottom: 0;left: 50%;z-index: -1;}#sk-container-id-2 div.sk-parallel-item {display: flex;flex-direction: column;z-index: 1;position: relative;background-color: white;}#sk-container-id-2 div.sk-parallel-item:first-child::after {align-self: flex-end;width: 50%;}#sk-container-id-2 div.sk-parallel-item:last-child::after {align-self: flex-start;width: 50%;}#sk-container-id-2 div.sk-parallel-item:only-child::after {width: 0;}#sk-container-id-2 div.sk-dashed-wrapped {border: 1px dashed gray;margin: 0 0.4em 0.5em 0.4em;box-sizing: border-box;padding-bottom: 0.4em;background-color: white;}#sk-container-id-2 div.sk-label label {font-family: monospace;font-weight: bold;display: inline-block;line-height: 1.2em;}#sk-container-id-2 div.sk-label-container {text-align: center;}#sk-container-id-2 div.sk-container {/* jupyter's `normalize.less` sets `[hidden] { display: none; }` but bootstrap.min.css set `[hidden] { display: none !important; }` so we also need the `!important` here to be able to override the default hidden behavior on the sphinx rendered scikit-learn.org. See: https://github.com/scikit-learn/scikit-learn/issues/21755 */display: inline-block !important;position: relative;}#sk-container-id-2 div.sk-text-repr-fallback {display: none;}</style><div id=\"sk-container-id-2\" class=\"sk-top-container\"><div class=\"sk-text-repr-fallback\"><pre>HistGradientBoostingRegressor(random_state=32)</pre><b>In a Jupyter environment, please rerun this cell to show the HTML representation or trust the notebook. <br />On GitHub, the HTML representation is unable to render, please try loading this page with nbviewer.org.</b></div><div class=\"sk-container\" hidden><div class=\"sk-item\"><div class=\"sk-estimator sk-toggleable\"><input class=\"sk-toggleable__control sk-hidden--visually\" id=\"sk-estimator-id-2\" type=\"checkbox\" checked><label for=\"sk-estimator-id-2\" class=\"sk-toggleable__label sk-toggleable__label-arrow\">HistGradientBoostingRegressor</label><div class=\"sk-toggleable__content\"><pre>HistGradientBoostingRegressor(random_state=32)</pre></div></div></div></div></div>"
      ],
      "text/plain": [
       "HistGradientBoostingRegressor(random_state=32)"
      ]
     },
     "execution_count": 36,
     "metadata": {},
     "output_type": "execute_result"
    }
   ],
   "source": [
    "traffic.ffill(inplace = True)\n",
    "regr = HistGradientBoostingRegressor(random_state = 32)\n",
    "regr.fit(test_trn, traffic)"
   ]
  },
  {
   "cell_type": "code",
   "execution_count": 37,
   "id": "07d5b5d7",
   "metadata": {},
   "outputs": [],
   "source": [
    "y_pred_test = regr.predict(test_trn)"
   ]
  },
  {
   "cell_type": "code",
   "execution_count": 41,
   "id": "c2002af5",
   "metadata": {},
   "outputs": [],
   "source": [
    "submission = pd.DataFrame({'ID': test_trn.index, 'traffic_volume': y_pred_test})"
   ]
  },
  {
   "cell_type": "code",
   "execution_count": 42,
   "id": "64daea6e",
   "metadata": {},
   "outputs": [],
   "source": [
    "submission.to_csv('basemodel_1.submission.csv', index = False)"
   ]
  }
 ],
 "metadata": {
  "kernelspec": {
   "display_name": "Python 3 (ipykernel)",
   "language": "python",
   "name": "python3"
  },
  "language_info": {
   "codemirror_mode": {
    "name": "ipython",
    "version": 3
   },
   "file_extension": ".py",
   "mimetype": "text/x-python",
   "name": "python",
   "nbconvert_exporter": "python",
   "pygments_lexer": "ipython3",
   "version": "3.11.4"
  }
 },
 "nbformat": 4,
 "nbformat_minor": 5
}
